{
 "cells": [
  {
   "cell_type": "code",
   "execution_count": 4,
   "metadata": {},
   "outputs": [
    {
     "name": "stdout",
     "output_type": "stream",
     "text": [
      "Collecting functions-framework\n",
      "  Downloading functions_framework-3.5.0-py3-none-any.whl.metadata (16 kB)\n",
      "Collecting flask<4.0,>=1.0 (from functions-framework)\n",
      "  Downloading flask-3.0.3-py3-none-any.whl.metadata (3.2 kB)\n",
      "Requirement already satisfied: click<9.0,>=7.0 in c:\\users\\user\\downloads\\semua folder download\\file donwlaods\\all pelatihan\\data enggineer iykra\\training data fellowship 12\\.conda\\lib\\site-packages (from functions-framework) (8.1.7)\n",
      "Collecting watchdog>=1.0.0 (from functions-framework)\n",
      "  Downloading watchdog-4.0.0-py3-none-win_amd64.whl.metadata (37 kB)\n",
      "Collecting cloudevents<2.0.0,>=1.2.0 (from functions-framework)\n",
      "  Downloading cloudevents-1.10.1-py3-none-any.whl.metadata (6.9 kB)\n",
      "Requirement already satisfied: colorama in c:\\users\\user\\appdata\\roaming\\python\\python312\\site-packages (from click<9.0,>=7.0->functions-framework) (0.4.6)\n",
      "Collecting deprecation<3.0,>=2.0 (from cloudevents<2.0.0,>=1.2.0->functions-framework)\n",
      "  Downloading deprecation-2.1.0-py2.py3-none-any.whl.metadata (4.6 kB)\n",
      "Collecting Werkzeug>=3.0.0 (from flask<4.0,>=1.0->functions-framework)\n",
      "  Downloading werkzeug-3.0.2-py3-none-any.whl.metadata (4.1 kB)\n",
      "Requirement already satisfied: Jinja2>=3.1.2 in c:\\users\\user\\downloads\\semua folder download\\file donwlaods\\all pelatihan\\data enggineer iykra\\training data fellowship 12\\.conda\\lib\\site-packages (from flask<4.0,>=1.0->functions-framework) (3.1.3)\n",
      "Collecting itsdangerous>=2.1.2 (from flask<4.0,>=1.0->functions-framework)\n",
      "  Downloading itsdangerous-2.1.2-py3-none-any.whl.metadata (2.9 kB)\n",
      "Collecting blinker>=1.6.2 (from flask<4.0,>=1.0->functions-framework)\n",
      "  Using cached blinker-1.7.0-py3-none-any.whl.metadata (1.9 kB)\n",
      "Requirement already satisfied: packaging in c:\\users\\user\\appdata\\roaming\\python\\python312\\site-packages (from deprecation<3.0,>=2.0->cloudevents<2.0.0,>=1.2.0->functions-framework) (24.0)\n",
      "Requirement already satisfied: MarkupSafe>=2.0 in c:\\users\\user\\downloads\\semua folder download\\file donwlaods\\all pelatihan\\data enggineer iykra\\training data fellowship 12\\.conda\\lib\\site-packages (from Jinja2>=3.1.2->flask<4.0,>=1.0->functions-framework) (2.1.5)\n",
      "Downloading functions_framework-3.5.0-py3-none-any.whl (32 kB)\n",
      "Downloading cloudevents-1.10.1-py3-none-any.whl (55 kB)\n",
      "   ---------------------------------------- 0.0/55.0 kB ? eta -:--:--\n",
      "   ---------------------------------------- 55.0/55.0 kB 2.8 MB/s eta 0:00:00\n",
      "Downloading flask-3.0.3-py3-none-any.whl (101 kB)\n",
      "   ---------------------------------------- 0.0/101.7 kB ? eta -:--:--\n",
      "   ---------------------------------------- 101.7/101.7 kB 6.1 MB/s eta 0:00:00\n",
      "Downloading watchdog-4.0.0-py3-none-win_amd64.whl (82 kB)\n",
      "   ---------------------------------------- 0.0/82.9 kB ? eta -:--:--\n",
      "   ---------------------------------------- 82.9/82.9 kB 2.3 MB/s eta 0:00:00\n",
      "Using cached blinker-1.7.0-py3-none-any.whl (13 kB)\n",
      "Downloading deprecation-2.1.0-py2.py3-none-any.whl (11 kB)\n",
      "Using cached itsdangerous-2.1.2-py3-none-any.whl (15 kB)\n",
      "Downloading werkzeug-3.0.2-py3-none-any.whl (226 kB)\n",
      "   ---------------------------------------- 0.0/226.8 kB ? eta -:--:--\n",
      "   ------------------- -------------------- 112.6/226.8 kB 3.3 MB/s eta 0:00:01\n",
      "   ---------------------------------------- 226.8/226.8 kB 2.3 MB/s eta 0:00:00\n",
      "Installing collected packages: Werkzeug, watchdog, itsdangerous, deprecation, blinker, flask, cloudevents, functions-framework\n",
      "Successfully installed Werkzeug-3.0.2 blinker-1.7.0 cloudevents-1.10.1 deprecation-2.1.0 flask-3.0.3 functions-framework-3.5.0 itsdangerous-2.1.2 watchdog-4.0.0\n",
      "Note: you may need to restart the kernel to use updated packages.\n"
     ]
    },
    {
     "name": "stderr",
     "output_type": "stream",
     "text": [
      "  WARNING: The script watchmedo.exe is installed in 'c:\\Users\\User\\Downloads\\SEMUA FOLDER DOWNLOAD\\FILE DONWLAODS\\ALL PELATIHAN\\DATA ENGGINEER IYKRA\\Training Data Fellowship 12\\.conda\\Scripts' which is not on PATH.\n",
      "  Consider adding this directory to PATH or, if you prefer to suppress this warning, use --no-warn-script-location.\n",
      "  WARNING: The script flask.exe is installed in 'c:\\Users\\User\\Downloads\\SEMUA FOLDER DOWNLOAD\\FILE DONWLAODS\\ALL PELATIHAN\\DATA ENGGINEER IYKRA\\Training Data Fellowship 12\\.conda\\Scripts' which is not on PATH.\n",
      "  Consider adding this directory to PATH or, if you prefer to suppress this warning, use --no-warn-script-location.\n",
      "  WARNING: The scripts ff.exe, functions-framework-python.exe, functions-framework.exe, functions_framework.exe and functions_framework_python.exe are installed in 'c:\\Users\\User\\Downloads\\SEMUA FOLDER DOWNLOAD\\FILE DONWLAODS\\ALL PELATIHAN\\DATA ENGGINEER IYKRA\\Training Data Fellowship 12\\.conda\\Scripts' which is not on PATH.\n",
      "  Consider adding this directory to PATH or, if you prefer to suppress this warning, use --no-warn-script-location.\n"
     ]
    }
   ],
   "source": [
    "pip install functions-framework\n"
   ]
  },
  {
   "cell_type": "code",
   "execution_count": 5,
   "metadata": {},
   "outputs": [],
   "source": [
    "import functions_framework\n",
    "\n",
    "@functions_framework.http\n",
    "def hello_http(request):\n",
    "    \"\"\"HTTP Cloud Function.\n",
    "    Args:\n",
    "        request (flask.Request): The request object.\n",
    "        <https://flask.palletsprojects.com/en/1.1.x/api/#incoming-request-data>\n",
    "    Returns:\n",
    "        The response text, or any set of values that can be turned into a\n",
    "        Response object using `make_response`\n",
    "        <https://flask.palletsprojects.com/en/1.1.x/api/#flask.make_response>.\n",
    "    \"\"\"\n",
    "    request_json = request.get_json(silent=True)\n",
    "    request_args = request.args\n"
   ]
  },
  {
   "cell_type": "code",
   "execution_count": 25,
   "metadata": {},
   "outputs": [],
   "source": [
    "import re\n",
    "\n",
    "try:\n",
    "    # Path ke file yang ingin dibaca\n",
    "    ftpfile = 'C:\\\\Users\\\\User\\\\Downloads\\\\SEMUA FOLDER DOWNLOAD\\\\FILE DONWLAODS\\\\ALL PELATIHAN\\\\DATA ENGGINEER IYKRA\\\\Weekly Assignment - Week 1\\\\Weekly_1\\\\weekend_cleaned.csv'\n",
    "\n",
    "    # Membaca isi file\n",
    "    with open(ftpfile, 'r') as f:\n",
    "        my_csv_text = f.read()\n",
    "except Exception as error:\n",
    "    print('An exception occurred:', error)\n"
   ]
  },
  {
   "cell_type": "code",
   "execution_count": 21,
   "metadata": {},
   "outputs": [
    {
     "ename": "NameError",
     "evalue": "name 'bigquery' is not defined",
     "output_type": "error",
     "traceback": [
      "\u001b[1;31m---------------------------------------------------------------------------\u001b[0m",
      "\u001b[1;31mNameError\u001b[0m                                 Traceback (most recent call last)",
      "Cell \u001b[1;32mIn[21], line 2\u001b[0m\n\u001b[0;32m      1\u001b[0m \u001b[38;5;66;03m#Create BQ client\u001b[39;00m\n\u001b[1;32m----> 2\u001b[0m client \u001b[38;5;241m=\u001b[39m \u001b[43mbigquery\u001b[49m\u001b[38;5;241m.\u001b[39mClient()\n\u001b[0;32m      4\u001b[0m \u001b[38;5;66;03m#BQ Table data\u001b[39;00m\n\u001b[0;32m      5\u001b[0m dataset_id \u001b[38;5;241m=\u001b[39m \u001b[38;5;124m'\u001b[39m\u001b[38;5;124myour-bq-dataset-od\u001b[39m\u001b[38;5;124m'\u001b[39m\n",
      "\u001b[1;31mNameError\u001b[0m: name 'bigquery' is not defined"
     ]
    }
   ],
   "source": [
    "    #Create BQ client\n",
    "    client = bigquery.Client()\n",
    "\n",
    "    #BQ Table data\n",
    "    dataset_id = 'your-bq-dataset-od'\n",
    "    table_id = 'your-bq-table-id'\n",
    "\n",
    "    dataset_ref = client.dataset(dataset_id)\n",
    "    table_ref = dataset_ref.table(table_id)\n",
    "    job_config = bigquery.LoadJobConfig()\n",
    "    job_config.field_delimiter=(\";\")\n",
    "    job_config.source_format = bigquery.SourceFormat.CSV\n",
    "    job_config.autodetect = True\n",
    "    job_config.write_disposition = \"WRITE_TRUNCATE\"\n",
    "    \n",
    "    with open(new_csv_path, \"rb\") as source_file:\n",
    "        job = client.load_table_from_file(source_file, table_ref, job_config=job_config)\n",
    "        print(\"Loading file to BigQuery...\")\n",
    "    source_file.close()\n",
    "    \n",
    "    job.result()  # Waits for table load to complete.\n",
    "    print(\"The file has been successfully uploaded to BigQuery!\")"
   ]
  },
  {
   "cell_type": "code",
   "execution_count": null,
   "metadata": {},
   "outputs": [],
   "source": []
  }
 ],
 "metadata": {
  "kernelspec": {
   "display_name": "Python 3",
   "language": "python",
   "name": "python3"
  },
  "language_info": {
   "codemirror_mode": {
    "name": "ipython",
    "version": 3
   },
   "file_extension": ".py",
   "mimetype": "text/x-python",
   "name": "python",
   "nbconvert_exporter": "python",
   "pygments_lexer": "ipython3",
   "version": "3.12.2"
  }
 },
 "nbformat": 4,
 "nbformat_minor": 2
}
